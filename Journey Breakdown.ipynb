{
 "cells": [
  {
   "cell_type": "code",
   "execution_count": 10,
   "id": "7d5cd5ef",
   "metadata": {},
   "outputs": [],
   "source": [
    "import numpy as np"
   ]
  },
  {
   "cell_type": "code",
   "execution_count": 44,
   "id": "5b064c38",
   "metadata": {},
   "outputs": [],
   "source": [
    "#train data\n",
    "Ndoors= 2 #doors per car\n",
    "capacity=150 #capacity of train\n",
    "N_cars=3\n",
    "\n",
    "#m= #mass of train\n",
    "#*mass will decrease with journey\n",
    "\n",
    "q=capacity/N_cars #capacity of train car"
   ]
  },
  {
   "cell_type": "code",
   "execution_count": null,
   "id": "c55a6336",
   "metadata": {},
   "outputs": [],
   "source": [
    "#people data, vector, index corresponds to part of journey\n",
    "\n",
    "#proportion embarking\n",
    "#p_rail an assumption, proportion of commuters travelling by rail\n",
    "p_rail =0.8\n",
    "\n",
    "#carterton to witney,eynsham,oxford (embark)\n",
    "c_w=1246\n",
    "c_e= \n",
    "c_o= 572+11\n",
    "r1= [c_w+c_e+c_o,0]\n",
    "\n",
    "#witney to eynsham, oxford (embark), carterton to witney (disembark)\n",
    "w_o=2227\n",
    "w_e=\n",
    "r2= [w_o+w_e, c_w] #commuters witney to oxford by rail https://public.tableau.com/views/2011CensusTTWDestinationSettlementGL/LAleveljourneyorigins?%3Aembed=y&%3AshowVizHome=no&%3Amobile=true \n",
    "\n",
    "#eynsham to oxford (embark), all stations to oxford (disembark)\n",
    "e_o=\n",
    "r3= [e_o, c_o+w_o+e_o]\n",
    "\n",
    "\n",
    "p_witney= r2*p_rail/ 7000  \n",
    "p_carterton_= r1*p_rail/ 7000 \n",
    "p_\n",
    "\n",
    "\n",
    "Beta = [p_carterton, p_witney, p_eynsham] #proportion of passengers embarking or disembarking\n"
   ]
  },
  {
   "cell_type": "code",
   "execution_count": 37,
   "id": "24e6e1cb",
   "metadata": {},
   "outputs": [
    {
     "name": "stdout",
     "output_type": "stream",
     "text": [
      "[[0.35 0.  ]\n",
      " [0.35 0.05]\n",
      " [0.3  0.05]\n",
      " [0.   0.9 ]]\n"
     ]
    }
   ],
   "source": [
    "Beta = np.array([[0.35,0], [0.35,0.05], [0.3,0.05], [0,0.9]])\n",
    "print(Beta)\n",
    "\n",
    "#[embarking, disembarking] each row is a station (carterton, witney, eynsham, oxford)\n",
    "tau= 0.35 #train occupancy rate"
   ]
  },
  {
   "cell_type": "code",
   "execution_count": 16,
   "id": "77e8e5e0",
   "metadata": {},
   "outputs": [
    {
     "name": "stdout",
     "output_type": "stream",
     "text": [
      "[[10.  ]\n",
      " [ 7.72]\n",
      " [ 5.02]]\n"
     ]
    }
   ],
   "source": [
    "#track distance\n",
    "d= np.array([[10], [7.72], [5.02]]) #(km)\n",
    "print(d)"
   ]
  },
  {
   "cell_type": "code",
   "execution_count": 25,
   "id": "6b5652a9",
   "metadata": {},
   "outputs": [
    {
     "name": "stdout",
     "output_type": "stream",
     "text": [
      "[[9.   ]\n",
      " [6.948]\n",
      " [4.518]]\n",
      "[[462.85714286]\n",
      " [357.32571429]\n",
      " [232.35428571]]\n"
     ]
    }
   ],
   "source": [
    "#avg runnning speed\n",
    "s_avg= 70 #(km/hr) - input\n",
    "s_avg= s_avg*(1/60**2) #avg running speed (km/s) assumption- can change\n",
    "s_d= 0.9 #proportion of distance over which train at avg running speed\n",
    "d_avg_s= s_d*d\n",
    "print (d_avg_s)\n",
    "t_avg= d_avg_s/s_avg #time travelling at avg speed for each split (s)\n",
    "print (t_avg)"
   ]
  },
  {
   "cell_type": "code",
   "execution_count": 31,
   "id": "4d54ac28",
   "metadata": {},
   "outputs": [
    {
     "name": "stdout",
     "output_type": "stream",
     "text": [
      "[[0.5  ]\n",
      " [0.386]\n",
      " [0.251]]\n",
      "[[0.00037809]\n",
      " [0.00048975]\n",
      " [0.00075316]]\n",
      "[51.42857143]\n"
     ]
    }
   ],
   "source": [
    "#acceleration and deceleration\n",
    "\n",
    "a_d = (1-s_d)/2 #proportion of distance over which train accelerates (when not avg speed it will decelerate/ accelerate)\n",
    "d_acc= a_d*d #distance over which train accelerates (km)\n",
    "print(d_acc)\n",
    "a= (s_avg**2)/(2*d_acc) #acceleration rate (rest to avg_speed) speed converted to km/s^2\n",
    "print (a)\n",
    "t_acc=s_avg/a #time spent accelerating (s)\n",
    "print (t_acc)"
   ]
  },
  {
   "cell_type": "code",
   "execution_count": null,
   "id": "30665f40",
   "metadata": {},
   "outputs": [],
   "source": [
    "#Energy calculation\n",
    "\n",
    "#energy and power requirements for accelerating\n",
    "F= m*a\n",
    "E_acc=F*d_acc\n",
    "P_acc= E_acc/t_acc\n",
    "\n",
    "#energy and power requirements for average journey\n",
    "E_avg_s= 1/2 *m* (s_avg)^2\n",
    "P_avg_s= E_avg_s/t_avg\n"
   ]
  },
  {
   "cell_type": "code",
   "execution_count": 39,
   "id": "91276c88",
   "metadata": {},
   "outputs": [],
   "source": [
    "#operational margin\n",
    "t_margin_arrive= 30 #assumption\n",
    "t_margin_depart= 60 #assumption based on doors can close up to a minute before departure\n",
    "t_margin= t_margin_arrive + t_margin_depart"
   ]
  },
  {
   "cell_type": "code",
   "execution_count": 38,
   "id": "407fbfce",
   "metadata": {},
   "outputs": [],
   "source": [
    "t_board= 0.15*60 #time of embarking or disembarking per passenger (s) (assumption)"
   ]
  },
  {
   "cell_type": "code",
   "execution_count": 48,
   "id": "3721d136",
   "metadata": {},
   "outputs": [
    {
     "name": "stdout",
     "output_type": "stream",
     "text": [
      "9.375\n"
     ]
    }
   ],
   "source": [
    "#dwell time\n",
    "\n",
    "t_station = t_margin + N_cars*2*(t_board*tau*q)/Ndoors # for all stations (embark and disembark)\n",
    "print(t_station/60)\n",
    "\n",
    "#t_board_c= (t_board*Beta[0][0]*tau*q)/Ndoors + (t_board*Beta[1][0]*tau*q)/Ndoors \n",
    "\n",
    "#w_e\n",
    "#e_o\n",
    "\n",
    "#t_station = t_margin + (t_board*Beta[]*tau*q)/Ndoors + (t_board*Beta[]*tau*q)/Ndoors # station breakdown "
   ]
  },
  {
   "cell_type": "code",
   "execution_count": 43,
   "id": "87dfa356",
   "metadata": {},
   "outputs": [
    {
     "name": "stdout",
     "output_type": "stream",
     "text": [
      "[19.49142857]\n"
     ]
    }
   ],
   "source": [
    "#time of train in motion\n",
    "#t_avg from 3 parts of journey\n",
    "t_track = t_acc[0] +t_acc[1] +t_acc[2] + t_avg[0] +t_avg[1] +t_avg[2]\n",
    "print(t_track/60)"
   ]
  },
  {
   "cell_type": "code",
   "execution_count": 50,
   "id": "2291d7ed",
   "metadata": {},
   "outputs": [
    {
     "name": "stdout",
     "output_type": "stream",
     "text": [
      "[28.86642857]\n"
     ]
    }
   ],
   "source": [
    "#journey time\n",
    "\n",
    "t_journey= t_station + t_track #3 stations, 3 betas, 3 dwell times, index t_station\n",
    "print(t_journey/60)"
   ]
  },
  {
   "cell_type": "code",
   "execution_count": null,
   "id": "bf7c1b03",
   "metadata": {},
   "outputs": [],
   "source": []
  }
 ],
 "metadata": {
  "kernelspec": {
   "display_name": "Python 3 (ipykernel)",
   "language": "python",
   "name": "python3"
  },
  "language_info": {
   "codemirror_mode": {
    "name": "ipython",
    "version": 3
   },
   "file_extension": ".py",
   "mimetype": "text/x-python",
   "name": "python",
   "nbconvert_exporter": "python",
   "pygments_lexer": "ipython3",
   "version": "3.7.11"
  }
 },
 "nbformat": 4,
 "nbformat_minor": 5
}
