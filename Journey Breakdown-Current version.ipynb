{
 "cells": [
  {
   "cell_type": "code",
   "execution_count": null,
   "id": "7d5cd5ef",
   "metadata": {},
   "outputs": [],
   "source": [
    "import numpy as np\n",
    "import math\n",
    "import matplotlib.pyplot as plt"
   ]
  },
  {
   "cell_type": "code",
   "execution_count": null,
   "id": "a0130dfb",
   "metadata": {},
   "outputs": [],
   "source": [
    "#constants\n",
    "g=9.81"
   ]
  },
  {
   "cell_type": "code",
   "execution_count": null,
   "id": "5b064c38",
   "metadata": {},
   "outputs": [],
   "source": [
    "#train data\n",
    "Ndoors= 2 #doors per car\n",
    "capacity=150 #capacity of train\n",
    "N_cars= 3\n",
    "\n",
    "\n",
    "W=92 #mass of train (tons)\n",
    "m= W*1000 #mass of train (kg) ** tons to tonnes to kg\n",
    "w=16 #weight per axle (tons) \n",
    "#*mass will decrease with journey\n",
    "\n",
    "q=capacity/N_cars #capacity of train car"
   ]
  },
  {
   "cell_type": "code",
   "execution_count": null,
   "id": "c55a6336",
   "metadata": {},
   "outputs": [],
   "source": []
  },
  {
   "cell_type": "code",
   "execution_count": 17,
   "id": "24e6e1cb",
   "metadata": {},
   "outputs": [
    {
     "name": "stdout",
     "output_type": "stream",
     "text": [
      "[[0.35 0.  ]\n",
      " [0.35 0.05]\n",
      " [0.3  0.05]\n",
      " [0.   0.9 ]]\n"
     ]
    }
   ],
   "source": [
    "Beta = [p_carterton, p_witney, p_eynsham] #proportion of passengers embarking or disembarking\n",
    "Beta = np.array([[0.35,0], [0.35,0.05], [0.3,0.05], [0,0.9]])\n",
    "print(Beta)\n",
    "\n",
    "#[embarking, disembarking] each row is a station (carterton, witney, eynsham, oxford)\n",
    "tau= 0.35 #train occupancy rate"
   ]
  },
  {
   "cell_type": "code",
   "execution_count": 4,
   "id": "77e8e5e0",
   "metadata": {},
   "outputs": [
    {
     "name": "stdout",
     "output_type": "stream",
     "text": [
      "[[10000.]\n",
      " [ 7720.]\n",
      " [ 5020.]\n",
      " [ 7195.]]\n"
     ]
    }
   ],
   "source": [
    "#track data(google earth)\n",
    "d=np.array([10, 7.72, 5.02, 7.195]) #distance(km)\n",
    "d=d*1000 #in m\n",
    "print(d)\n",
    "#slope data\n"
   ]
  },
  {
   "cell_type": "code",
   "execution_count": 5,
   "id": "cefafcd3",
   "metadata": {},
   "outputs": [
    {
     "name": "stdout",
     "output_type": "stream",
     "text": [
      "0.8\n",
      "22.22222222222222\n"
     ]
    }
   ],
   "source": [
    "#speed and acceleration inputs\n",
    "\n",
    "a= 0.8 #acceleration rate (rest to avg_speed) speed converted to m/s^2\n",
    "print (a)\n",
    "\n",
    "s_avg= 80 #(km/hr) - input, assumption\n",
    "s_avg= s_avg*1000*(1/60**2) #m/s\n",
    "print(s_avg)"
   ]
  },
  {
   "cell_type": "code",
   "execution_count": 6,
   "id": "4d54ac28",
   "metadata": {},
   "outputs": [
    {
     "name": "stdout",
     "output_type": "stream",
     "text": [
      "308.6419753086419\n",
      "27.777777777777775\n"
     ]
    }
   ],
   "source": [
    "#acceleration and deceleration\n",
    "\n",
    "d_acc= (s_avg**2)/(2*a) #using train acceleration data #distance over which train accelerates (km)\n",
    "print(d_acc)\n",
    "\n",
    "t_acc=s_avg/a #time spent accelerating (s)\n",
    "print (t_acc)"
   ]
  },
  {
   "cell_type": "code",
   "execution_count": 7,
   "id": "6b5652a9",
   "metadata": {},
   "outputs": [
    {
     "name": "stdout",
     "output_type": "stream",
     "text": [
      "[[9382.71604938]\n",
      " [7102.71604938]\n",
      " [4402.71604938]\n",
      " [6577.71604938]]\n",
      "[[7.03703704]\n",
      " [5.32703704]\n",
      " [3.30203704]\n",
      " [4.93328704]]\n"
     ]
    }
   ],
   "source": [
    "#avg runnning speed\n",
    "\n",
    "d_avg_s= d - 2*d_acc #distance travelling at average speed\n",
    "print (d_avg_s)\n",
    "t_avg= d_avg_s/s_avg #time travelling at avg speed for each split (s)\n",
    "print (t_avg/60)"
   ]
  },
  {
   "cell_type": "code",
   "execution_count": null,
   "id": "c76447ad",
   "metadata": {},
   "outputs": [],
   "source": [
    "#force model\n",
    "V= #V (instantaenous speed in km/h)\n",
    "alpha #(instantaneous gradient )\n",
    "\n",
    "A=9.4/(math.sqrt(w)) + 12.5/w\n",
    "B=8*10**-5*W*V\n",
    "C=6*10**-7*W*V**2\n",
    "\n",
    "\n",
    "#F_t\n",
    "F_d=A+Bv+Cv**2 #running resistance in kg/ton\n",
    "F_d= F_d*W*g #running resistance in N\n",
    "#f= m*g*slope+A/R_L #slope resistance and curve resistance"
   ]
  },
  {
   "cell_type": "code",
   "execution_count": null,
   "id": "30665f40",
   "metadata": {},
   "outputs": [],
   "source": [
    "#Energy calculation\n",
    "\n",
    "#energy and power requirements for accelerating\n",
    "F= m*a\n",
    "E_acc=F*d_acc\n",
    "P_acc= E_acc/t_acc\n",
    "\n",
    "#energy and power requirements for average journey\n",
    "E_avg_s= 1/2 *m* (s_avg)^2\n",
    "P_avg_s= E_avg_s/t_avg\n"
   ]
  },
  {
   "cell_type": "code",
   "execution_count": 8,
   "id": "91276c88",
   "metadata": {},
   "outputs": [],
   "source": [
    "#operational margin\n",
    "t_margin_arrive= 30 #assumption\n",
    "t_margin_depart= 60 #assumption based on doors can close up to a minute before departure\n",
    "t_margin= t_margin_arrive + t_margin_depart"
   ]
  },
  {
   "cell_type": "code",
   "execution_count": 9,
   "id": "407fbfce",
   "metadata": {},
   "outputs": [],
   "source": [
    "t_board= 0.1*60 #time of embarking or disembarking per passenger (s) (assumption)"
   ]
  },
  {
   "cell_type": "code",
   "execution_count": 11,
   "id": "3721d136",
   "metadata": {},
   "outputs": [
    {
     "name": "stdout",
     "output_type": "stream",
     "text": [
      "6.749999999999999\n"
     ]
    }
   ],
   "source": [
    "#dwell time\n",
    "#tau=0.35\n",
    "t_station = t_margin + N_cars*2*(t_board*tau*q)/Ndoors # for all stations (embark and disembark)\n",
    "print(t_station/60)\n",
    "\n",
    "#t_board_c= (t_board*Beta[0][0]*tau*q)/Ndoors + (t_board*Beta[1][0]*tau*q)/Ndoors \n",
    "\n",
    "#w_e\n",
    "#e_o\n",
    "\n",
    "#t_station = t_margin + (t_board*Beta[]*tau*q)/Ndoors + (t_board*Beta[]*tau*q)/Ndoors # station breakdown "
   ]
  },
  {
   "cell_type": "code",
   "execution_count": 12,
   "id": "87dfa356",
   "metadata": {},
   "outputs": [
    {
     "name": "stdout",
     "output_type": "stream",
     "text": [
      "[24.30310185]\n"
     ]
    }
   ],
   "source": [
    "#time of train in motion\n",
    "#t_avg from 4 parts of journey\n",
    "#accelerates and decelerates 8 times in total\n",
    "t_track = 2*4*t_acc + t_avg[0] +t_avg[1] +t_avg[2] + t_avg[3]\n",
    "print(t_track/60)"
   ]
  },
  {
   "cell_type": "code",
   "execution_count": 13,
   "id": "2291d7ed",
   "metadata": {},
   "outputs": [
    {
     "name": "stdout",
     "output_type": "stream",
     "text": [
      "[31.05310185]\n"
     ]
    }
   ],
   "source": [
    "#journey time\n",
    "\n",
    "t_journey= t_station + t_track #4 stations, 4 betas, 4 dwell times, index t_station\n",
    "print(t_journey/60)"
   ]
  },
  {
   "cell_type": "code",
   "execution_count": 27,
   "id": "bf7c1b03",
   "metadata": {},
   "outputs": [
    {
     "name": "stdout",
     "output_type": "stream",
     "text": [
      "[[422.22222222]\n",
      " [319.62222222]\n",
      " [198.12222222]\n",
      " [295.99722222]]\n",
      "0\n",
      "[0. 0. 0. 0. 0.]\n",
      "1\n",
      "[0. 0. 0. 0. 0.]\n",
      "2\n",
      "[0. 0. 0. 0. 0.]\n",
      "3\n",
      "[0. 0. 0. 0. 0.]\n"
     ]
    }
   ],
   "source": [
    "\n",
    "print(t_avg)\n",
    "from numpy import cumsum, ones\n",
    "ct_avg= cumsum(t_avg)\n",
    "for n in range(4): \n",
    "    count = 5\n",
    "    if n==0 and count>0:\n",
    "        ct_avg=np.zeros(5)\n",
    "        #count= count - 1\n",
    "    \n",
    "    print(n)\n",
    "    \n",
    "    print(ct_avg)\n",
    "    \n",
    "    #print(ct_avg[n-1])\n",
    "\n",
    "    \n",
    "from numpy import cumsum, ones\n",
    "a = np.array([[1], [2], [3], [4]])\n",
    "#print(a)\n",
    "#print(cumsum(a))\n",
    "#array([  1.,   2.,   3.,   4.,   5.,   6.,   7.,   8.,   9.,  10.])\n"
   ]
  },
  {
   "cell_type": "code",
   "execution_count": null,
   "id": "56eee160",
   "metadata": {},
   "outputs": [],
   "source": [
    "#speed/acceleration/ deceleration profile\n",
    "t_journey=31\n",
    "t = np.arange(0,t_journey*60,1, dtype=int) #array with 1 second intervals\n",
    "#print(t)\n",
    "\n",
    "#initialise speed array # it is at average speed for majority of time\n",
    "speed = [s_avg] * len(t) \n",
    "\n",
    "#cumulative time spent at avg speed\n",
    "from numpy import cumsum, ones\n",
    "ct_avg= cumsum(t_avg)\n",
    "\n",
    "#overwrite for accelerating/ stationary\n",
    "for n in range(4):\n",
    "    for i in t:\n",
    "        \n",
    "        if i<t_acc:\n",
    "            s_acc= a*t[i]#instantaneous speed\n",
    "            #print(t[i])\n",
    "            #print(s_acc)\n",
    "            speed[i]= s_acc\n",
    "        \n",
    "        elif 2*n*t_acc + n*t_station + ct_avg[n-1] < i < ((2*n)+1)*t_acc + n*t_station + ct_avg[n-1]:#time spent accelerating\n",
    "#0-t_acc, etc etc\n",
    "            s_acc= a*t[i]#instantaneous speed while accelerating\n",
    "            speed[i]= s_acc\n",
    "\n",
    "        elif ((2*n)+1)*t_acc + n*t_station + ct_avg[n] < i < ((2*n)+2)*t_acc + n*t_station + ct_avg[n]: #time decelerating\n",
    "                                                #t_acc+t_avg - 2*t_acc + t_avg #tavg is split station wise e.g. t_avg[0]\n",
    "            # t_dec as time begins upon deceleration\n",
    "            t_dec = i- (((2*n)+1)*t_acc + n*t_station + ct_avg[n-1]) \n",
    "        \n",
    "            s_dec= s_avg -a*t_dec \n",
    "            speed[i] = s_dec\n",
    " \n",
    "        \n",
    "        elif ((2*n)+2)*t_acc + ct_avg[n] + n*t_station < i < ((2*n)+2)*t_acc + ct_avg[n] + (n+1)*t_station: #time stationary (at station)\n",
    "            speed[i]=0\n",
    "\n",
    "print(speed)\n"
   ]
  },
  {
   "cell_type": "code",
   "execution_count": null,
   "id": "4de65483",
   "metadata": {},
   "outputs": [
    {
     "name": "stderr",
     "output_type": "stream",
     "text": [
      "C:\\Users\\Poca\\anaconda3\\envs\\LEO3YP2021\\lib\\site-packages\\numpy\\core\\shape_base.py:65: VisibleDeprecationWarning: Creating an ndarray from ragged nested sequences (which is a list-or-tuple of lists-or-tuples-or ndarrays with different lengths or shapes) is deprecated. If you meant to do this, you must specify 'dtype=object' when creating the ndarray.\n",
      "  ary = asanyarray(ary)\n"
     ]
    },
    {
     "ename": "ValueError",
     "evalue": "setting an array element with a sequence.",
     "output_type": "error",
     "traceback": [
      "\u001b[1;31m---------------------------------------------------------------------------\u001b[0m",
      "\u001b[1;31mTypeError\u001b[0m                                 Traceback (most recent call last)",
      "\u001b[1;31mTypeError\u001b[0m: only size-1 arrays can be converted to Python scalars",
      "\nThe above exception was the direct cause of the following exception:\n",
      "\u001b[1;31mValueError\u001b[0m                                Traceback (most recent call last)",
      "\u001b[1;32m~\\AppData\\Local\\Temp/ipykernel_7088/3888298181.py\u001b[0m in \u001b[0;36m<module>\u001b[1;34m\u001b[0m\n\u001b[1;32m----> 1\u001b[1;33m \u001b[0mplt\u001b[0m\u001b[1;33m.\u001b[0m\u001b[0mplot\u001b[0m\u001b[1;33m(\u001b[0m\u001b[0mt\u001b[0m\u001b[1;33m,\u001b[0m\u001b[0mspeed\u001b[0m\u001b[1;33m)\u001b[0m\u001b[1;33m\u001b[0m\u001b[1;33m\u001b[0m\u001b[0m\n\u001b[0m\u001b[0;32m      2\u001b[0m \u001b[0mplt\u001b[0m\u001b[1;33m.\u001b[0m\u001b[0mxlabel\u001b[0m\u001b[1;33m=\u001b[0m \u001b[1;33m(\u001b[0m\u001b[1;34m'time(s)'\u001b[0m\u001b[1;33m)\u001b[0m\u001b[1;33m\u001b[0m\u001b[1;33m\u001b[0m\u001b[0m\n\u001b[0;32m      3\u001b[0m \u001b[0mplt\u001b[0m\u001b[1;33m.\u001b[0m\u001b[0mylabel\u001b[0m\u001b[1;33m=\u001b[0m\u001b[1;33m(\u001b[0m\u001b[1;34m'speed(m/s)'\u001b[0m\u001b[1;33m)\u001b[0m\u001b[1;33m\u001b[0m\u001b[1;33m\u001b[0m\u001b[0m\n",
      "\u001b[1;32m~\\anaconda3\\envs\\LEO3YP2021\\lib\\site-packages\\matplotlib\\pyplot.py\u001b[0m in \u001b[0;36mplot\u001b[1;34m(scalex, scaley, data, *args, **kwargs)\u001b[0m\n\u001b[0;32m   3019\u001b[0m     return gca().plot(\n\u001b[0;32m   3020\u001b[0m         \u001b[1;33m*\u001b[0m\u001b[0margs\u001b[0m\u001b[1;33m,\u001b[0m \u001b[0mscalex\u001b[0m\u001b[1;33m=\u001b[0m\u001b[0mscalex\u001b[0m\u001b[1;33m,\u001b[0m \u001b[0mscaley\u001b[0m\u001b[1;33m=\u001b[0m\u001b[0mscaley\u001b[0m\u001b[1;33m,\u001b[0m\u001b[1;33m\u001b[0m\u001b[1;33m\u001b[0m\u001b[0m\n\u001b[1;32m-> 3021\u001b[1;33m         **({\"data\": data} if data is not None else {}), **kwargs)\n\u001b[0m\u001b[0;32m   3022\u001b[0m \u001b[1;33m\u001b[0m\u001b[0m\n\u001b[0;32m   3023\u001b[0m \u001b[1;33m\u001b[0m\u001b[0m\n",
      "\u001b[1;32m~\\anaconda3\\envs\\LEO3YP2021\\lib\\site-packages\\matplotlib\\axes\\_axes.py\u001b[0m in \u001b[0;36mplot\u001b[1;34m(self, scalex, scaley, data, *args, **kwargs)\u001b[0m\n\u001b[0;32m   1605\u001b[0m         \u001b[0mlines\u001b[0m \u001b[1;33m=\u001b[0m \u001b[1;33m[\u001b[0m\u001b[1;33m*\u001b[0m\u001b[0mself\u001b[0m\u001b[1;33m.\u001b[0m\u001b[0m_get_lines\u001b[0m\u001b[1;33m(\u001b[0m\u001b[1;33m*\u001b[0m\u001b[0margs\u001b[0m\u001b[1;33m,\u001b[0m \u001b[0mdata\u001b[0m\u001b[1;33m=\u001b[0m\u001b[0mdata\u001b[0m\u001b[1;33m,\u001b[0m \u001b[1;33m**\u001b[0m\u001b[0mkwargs\u001b[0m\u001b[1;33m)\u001b[0m\u001b[1;33m]\u001b[0m\u001b[1;33m\u001b[0m\u001b[1;33m\u001b[0m\u001b[0m\n\u001b[0;32m   1606\u001b[0m         \u001b[1;32mfor\u001b[0m \u001b[0mline\u001b[0m \u001b[1;32min\u001b[0m \u001b[0mlines\u001b[0m\u001b[1;33m:\u001b[0m\u001b[1;33m\u001b[0m\u001b[1;33m\u001b[0m\u001b[0m\n\u001b[1;32m-> 1607\u001b[1;33m             \u001b[0mself\u001b[0m\u001b[1;33m.\u001b[0m\u001b[0madd_line\u001b[0m\u001b[1;33m(\u001b[0m\u001b[0mline\u001b[0m\u001b[1;33m)\u001b[0m\u001b[1;33m\u001b[0m\u001b[1;33m\u001b[0m\u001b[0m\n\u001b[0m\u001b[0;32m   1608\u001b[0m         \u001b[0mself\u001b[0m\u001b[1;33m.\u001b[0m\u001b[0m_request_autoscale_view\u001b[0m\u001b[1;33m(\u001b[0m\u001b[0mscalex\u001b[0m\u001b[1;33m=\u001b[0m\u001b[0mscalex\u001b[0m\u001b[1;33m,\u001b[0m \u001b[0mscaley\u001b[0m\u001b[1;33m=\u001b[0m\u001b[0mscaley\u001b[0m\u001b[1;33m)\u001b[0m\u001b[1;33m\u001b[0m\u001b[1;33m\u001b[0m\u001b[0m\n\u001b[0;32m   1609\u001b[0m         \u001b[1;32mreturn\u001b[0m \u001b[0mlines\u001b[0m\u001b[1;33m\u001b[0m\u001b[1;33m\u001b[0m\u001b[0m\n",
      "\u001b[1;32m~\\anaconda3\\envs\\LEO3YP2021\\lib\\site-packages\\matplotlib\\axes\\_base.py\u001b[0m in \u001b[0;36madd_line\u001b[1;34m(self, line)\u001b[0m\n\u001b[0;32m   2099\u001b[0m             \u001b[0mline\u001b[0m\u001b[1;33m.\u001b[0m\u001b[0mset_clip_path\u001b[0m\u001b[1;33m(\u001b[0m\u001b[0mself\u001b[0m\u001b[1;33m.\u001b[0m\u001b[0mpatch\u001b[0m\u001b[1;33m)\u001b[0m\u001b[1;33m\u001b[0m\u001b[1;33m\u001b[0m\u001b[0m\n\u001b[0;32m   2100\u001b[0m \u001b[1;33m\u001b[0m\u001b[0m\n\u001b[1;32m-> 2101\u001b[1;33m         \u001b[0mself\u001b[0m\u001b[1;33m.\u001b[0m\u001b[0m_update_line_limits\u001b[0m\u001b[1;33m(\u001b[0m\u001b[0mline\u001b[0m\u001b[1;33m)\u001b[0m\u001b[1;33m\u001b[0m\u001b[1;33m\u001b[0m\u001b[0m\n\u001b[0m\u001b[0;32m   2102\u001b[0m         \u001b[1;32mif\u001b[0m \u001b[1;32mnot\u001b[0m \u001b[0mline\u001b[0m\u001b[1;33m.\u001b[0m\u001b[0mget_label\u001b[0m\u001b[1;33m(\u001b[0m\u001b[1;33m)\u001b[0m\u001b[1;33m:\u001b[0m\u001b[1;33m\u001b[0m\u001b[1;33m\u001b[0m\u001b[0m\n\u001b[0;32m   2103\u001b[0m             \u001b[0mline\u001b[0m\u001b[1;33m.\u001b[0m\u001b[0mset_label\u001b[0m\u001b[1;33m(\u001b[0m\u001b[1;34m'_line%d'\u001b[0m \u001b[1;33m%\u001b[0m \u001b[0mlen\u001b[0m\u001b[1;33m(\u001b[0m\u001b[0mself\u001b[0m\u001b[1;33m.\u001b[0m\u001b[0mlines\u001b[0m\u001b[1;33m)\u001b[0m\u001b[1;33m)\u001b[0m\u001b[1;33m\u001b[0m\u001b[1;33m\u001b[0m\u001b[0m\n",
      "\u001b[1;32m~\\anaconda3\\envs\\LEO3YP2021\\lib\\site-packages\\matplotlib\\axes\\_base.py\u001b[0m in \u001b[0;36m_update_line_limits\u001b[1;34m(self, line)\u001b[0m\n\u001b[0;32m   2121\u001b[0m         \u001b[0mFigures\u001b[0m \u001b[0mout\u001b[0m \u001b[0mthe\u001b[0m \u001b[0mdata\u001b[0m \u001b[0mlimit\u001b[0m \u001b[0mof\u001b[0m \u001b[0mthe\u001b[0m \u001b[0mgiven\u001b[0m \u001b[0mline\u001b[0m\u001b[1;33m,\u001b[0m \u001b[0mupdating\u001b[0m \u001b[0mself\u001b[0m\u001b[1;33m.\u001b[0m\u001b[0mdataLim\u001b[0m\u001b[1;33m.\u001b[0m\u001b[1;33m\u001b[0m\u001b[1;33m\u001b[0m\u001b[0m\n\u001b[0;32m   2122\u001b[0m         \"\"\"\n\u001b[1;32m-> 2123\u001b[1;33m         \u001b[0mpath\u001b[0m \u001b[1;33m=\u001b[0m \u001b[0mline\u001b[0m\u001b[1;33m.\u001b[0m\u001b[0mget_path\u001b[0m\u001b[1;33m(\u001b[0m\u001b[1;33m)\u001b[0m\u001b[1;33m\u001b[0m\u001b[1;33m\u001b[0m\u001b[0m\n\u001b[0m\u001b[0;32m   2124\u001b[0m         \u001b[1;32mif\u001b[0m \u001b[0mpath\u001b[0m\u001b[1;33m.\u001b[0m\u001b[0mvertices\u001b[0m\u001b[1;33m.\u001b[0m\u001b[0msize\u001b[0m \u001b[1;33m==\u001b[0m \u001b[1;36m0\u001b[0m\u001b[1;33m:\u001b[0m\u001b[1;33m\u001b[0m\u001b[1;33m\u001b[0m\u001b[0m\n\u001b[0;32m   2125\u001b[0m             \u001b[1;32mreturn\u001b[0m\u001b[1;33m\u001b[0m\u001b[1;33m\u001b[0m\u001b[0m\n",
      "\u001b[1;32m~\\anaconda3\\envs\\LEO3YP2021\\lib\\site-packages\\matplotlib\\lines.py\u001b[0m in \u001b[0;36mget_path\u001b[1;34m(self)\u001b[0m\n\u001b[0;32m   1020\u001b[0m         \"\"\"\n\u001b[0;32m   1021\u001b[0m         \u001b[1;32mif\u001b[0m \u001b[0mself\u001b[0m\u001b[1;33m.\u001b[0m\u001b[0m_invalidy\u001b[0m \u001b[1;32mor\u001b[0m \u001b[0mself\u001b[0m\u001b[1;33m.\u001b[0m\u001b[0m_invalidx\u001b[0m\u001b[1;33m:\u001b[0m\u001b[1;33m\u001b[0m\u001b[1;33m\u001b[0m\u001b[0m\n\u001b[1;32m-> 1022\u001b[1;33m             \u001b[0mself\u001b[0m\u001b[1;33m.\u001b[0m\u001b[0mrecache\u001b[0m\u001b[1;33m(\u001b[0m\u001b[1;33m)\u001b[0m\u001b[1;33m\u001b[0m\u001b[1;33m\u001b[0m\u001b[0m\n\u001b[0m\u001b[0;32m   1023\u001b[0m         \u001b[1;32mreturn\u001b[0m \u001b[0mself\u001b[0m\u001b[1;33m.\u001b[0m\u001b[0m_path\u001b[0m\u001b[1;33m\u001b[0m\u001b[1;33m\u001b[0m\u001b[0m\n\u001b[0;32m   1024\u001b[0m \u001b[1;33m\u001b[0m\u001b[0m\n",
      "\u001b[1;32m~\\anaconda3\\envs\\LEO3YP2021\\lib\\site-packages\\matplotlib\\lines.py\u001b[0m in \u001b[0;36mrecache\u001b[1;34m(self, always)\u001b[0m\n\u001b[0;32m    666\u001b[0m         \u001b[1;32mif\u001b[0m \u001b[0malways\u001b[0m \u001b[1;32mor\u001b[0m \u001b[0mself\u001b[0m\u001b[1;33m.\u001b[0m\u001b[0m_invalidy\u001b[0m\u001b[1;33m:\u001b[0m\u001b[1;33m\u001b[0m\u001b[1;33m\u001b[0m\u001b[0m\n\u001b[0;32m    667\u001b[0m             \u001b[0myconv\u001b[0m \u001b[1;33m=\u001b[0m \u001b[0mself\u001b[0m\u001b[1;33m.\u001b[0m\u001b[0mconvert_yunits\u001b[0m\u001b[1;33m(\u001b[0m\u001b[0mself\u001b[0m\u001b[1;33m.\u001b[0m\u001b[0m_yorig\u001b[0m\u001b[1;33m)\u001b[0m\u001b[1;33m\u001b[0m\u001b[1;33m\u001b[0m\u001b[0m\n\u001b[1;32m--> 668\u001b[1;33m             \u001b[0my\u001b[0m \u001b[1;33m=\u001b[0m \u001b[0m_to_unmasked_float_array\u001b[0m\u001b[1;33m(\u001b[0m\u001b[0myconv\u001b[0m\u001b[1;33m)\u001b[0m\u001b[1;33m.\u001b[0m\u001b[0mravel\u001b[0m\u001b[1;33m(\u001b[0m\u001b[1;33m)\u001b[0m\u001b[1;33m\u001b[0m\u001b[1;33m\u001b[0m\u001b[0m\n\u001b[0m\u001b[0;32m    669\u001b[0m         \u001b[1;32melse\u001b[0m\u001b[1;33m:\u001b[0m\u001b[1;33m\u001b[0m\u001b[1;33m\u001b[0m\u001b[0m\n\u001b[0;32m    670\u001b[0m             \u001b[0my\u001b[0m \u001b[1;33m=\u001b[0m \u001b[0mself\u001b[0m\u001b[1;33m.\u001b[0m\u001b[0m_y\u001b[0m\u001b[1;33m\u001b[0m\u001b[1;33m\u001b[0m\u001b[0m\n",
      "\u001b[1;32m~\\anaconda3\\envs\\LEO3YP2021\\lib\\site-packages\\matplotlib\\cbook\\__init__.py\u001b[0m in \u001b[0;36m_to_unmasked_float_array\u001b[1;34m(x)\u001b[0m\n\u001b[0;32m   1331\u001b[0m         \u001b[1;32mreturn\u001b[0m \u001b[0mnp\u001b[0m\u001b[1;33m.\u001b[0m\u001b[0mma\u001b[0m\u001b[1;33m.\u001b[0m\u001b[0masarray\u001b[0m\u001b[1;33m(\u001b[0m\u001b[0mx\u001b[0m\u001b[1;33m,\u001b[0m \u001b[0mfloat\u001b[0m\u001b[1;33m)\u001b[0m\u001b[1;33m.\u001b[0m\u001b[0mfilled\u001b[0m\u001b[1;33m(\u001b[0m\u001b[0mnp\u001b[0m\u001b[1;33m.\u001b[0m\u001b[0mnan\u001b[0m\u001b[1;33m)\u001b[0m\u001b[1;33m\u001b[0m\u001b[1;33m\u001b[0m\u001b[0m\n\u001b[0;32m   1332\u001b[0m     \u001b[1;32melse\u001b[0m\u001b[1;33m:\u001b[0m\u001b[1;33m\u001b[0m\u001b[1;33m\u001b[0m\u001b[0m\n\u001b[1;32m-> 1333\u001b[1;33m         \u001b[1;32mreturn\u001b[0m \u001b[0mnp\u001b[0m\u001b[1;33m.\u001b[0m\u001b[0masarray\u001b[0m\u001b[1;33m(\u001b[0m\u001b[0mx\u001b[0m\u001b[1;33m,\u001b[0m \u001b[0mfloat\u001b[0m\u001b[1;33m)\u001b[0m\u001b[1;33m\u001b[0m\u001b[1;33m\u001b[0m\u001b[0m\n\u001b[0m\u001b[0;32m   1334\u001b[0m \u001b[1;33m\u001b[0m\u001b[0m\n\u001b[0;32m   1335\u001b[0m \u001b[1;33m\u001b[0m\u001b[0m\n",
      "\u001b[1;31mValueError\u001b[0m: setting an array element with a sequence."
     ]
    }
   ],
   "source": [
    "plt.plot(t,speed)\n",
    "plt.xlabel= ('time(s)')\n",
    "plt.ylabel=('speed(m/s)')\n"
   ]
  },
  {
   "cell_type": "code",
   "execution_count": null,
   "id": "d391ae61",
   "metadata": {},
   "outputs": [],
   "source": []
  }
 ],
 "metadata": {
  "kernelspec": {
   "display_name": "Python 3 (ipykernel)",
   "language": "python",
   "name": "python3"
  },
  "language_info": {
   "codemirror_mode": {
    "name": "ipython",
    "version": 3
   },
   "file_extension": ".py",
   "mimetype": "text/x-python",
   "name": "python",
   "nbconvert_exporter": "python",
   "pygments_lexer": "ipython3",
   "version": "3.7.11"
  }
 },
 "nbformat": 4,
 "nbformat_minor": 5
}
