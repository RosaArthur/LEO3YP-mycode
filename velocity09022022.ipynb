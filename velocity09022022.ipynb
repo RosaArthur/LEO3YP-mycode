{
 "cells": [
  {
   "cell_type": "code",
   "execution_count": 1,
   "id": "7d5cd5ef",
   "metadata": {},
   "outputs": [],
   "source": [
    "import numpy as np\n",
    "import math\n",
    "import matplotlib.pyplot as plt"
   ]
  },
  {
   "cell_type": "code",
   "execution_count": 2,
   "id": "a0130dfb",
   "metadata": {},
   "outputs": [],
   "source": [
    "#constants\n",
    "g=9.81"
   ]
  },
  {
   "cell_type": "code",
   "execution_count": 3,
   "id": "5b064c38",
   "metadata": {},
   "outputs": [],
   "source": [
    "#train data\n",
    "Ndoors= 2 #doors per car\n",
    "capacity=150 #capacity of train\n",
    "N_cars= 3\n",
    "\n",
    "\n",
    "W=92 #mass of train (tons)\n",
    "m= W*1000 #mass of train (kg) ** tons to tonnes to kg\n",
    "w=16 #weight per axle (tons) \n",
    "#*mass will decrease with journey\n",
    "\n",
    "q=capacity/N_cars #capacity of train car"
   ]
  },
  {
   "cell_type": "code",
   "execution_count": null,
   "id": "c55a6336",
   "metadata": {},
   "outputs": [],
   "source": []
  },
  {
   "cell_type": "code",
   "execution_count": 4,
   "id": "24e6e1cb",
   "metadata": {},
   "outputs": [
    {
     "name": "stdout",
     "output_type": "stream",
     "text": [
      "[[0.35 0.  ]\n",
      " [0.35 0.05]\n",
      " [0.3  0.05]\n",
      " [0.   0.9 ]]\n"
     ]
    }
   ],
   "source": [
    "#Beta = [p_carterton, p_witney, p_eynsham] #proportion of passengers embarking or disembarking\n",
    "Beta = np.array([[0.35,0], [0.35,0.05], [0.3,0.05], [0,0.9]])\n",
    "print(Beta)\n",
    "\n",
    "#[embarking, disembarking] each row is a station (carterton, witney, eynsham, oxford)\n",
    "tau= 0.35 #train occupancy rate"
   ]
  },
  {
   "cell_type": "code",
   "execution_count": 5,
   "id": "77e8e5e0",
   "metadata": {},
   "outputs": [
    {
     "name": "stdout",
     "output_type": "stream",
     "text": [
      "[10000.  7720.  5020.  7195.]\n"
     ]
    }
   ],
   "source": [
    "#track data(google earth)\n",
    "d=np.array([10, 7.72, 5.02, 7.195]) #distance(km)\n",
    "d=d*1000 #in m\n",
    "print(d)\n",
    "#slope data\n"
   ]
  },
  {
   "cell_type": "code",
   "execution_count": 6,
   "id": "cefafcd3",
   "metadata": {},
   "outputs": [
    {
     "name": "stdout",
     "output_type": "stream",
     "text": [
      "0.8\n",
      "22.22222222222222\n"
     ]
    }
   ],
   "source": [
    "#speed and acceleration inputs\n",
    "\n",
    "a= 0.8 #acceleration rate (rest to avg_speed) speed converted to m/s^2\n",
    "print (a)\n",
    "\n",
    "s_avg= 80 #(km/hr) - input, assumption\n",
    "s_avg= s_avg*1000*(1/60**2) #m/s\n",
    "print(s_avg)"
   ]
  },
  {
   "cell_type": "code",
   "execution_count": 7,
   "id": "4d54ac28",
   "metadata": {},
   "outputs": [
    {
     "name": "stdout",
     "output_type": "stream",
     "text": [
      "308.6419753086419\n",
      "27.777777777777775\n"
     ]
    }
   ],
   "source": [
    "#acceleration and deceleration\n",
    "\n",
    "d_acc= (s_avg**2)/(2*a) #using train acceleration data #distance over which train accelerates (km)\n",
    "print(d_acc)\n",
    "\n",
    "t_acc=s_avg/a #time spent accelerating (s)\n",
    "print (t_acc)"
   ]
  },
  {
   "cell_type": "code",
   "execution_count": 8,
   "id": "6b5652a9",
   "metadata": {},
   "outputs": [
    {
     "name": "stdout",
     "output_type": "stream",
     "text": [
      "[9382.71604938 7102.71604938 4402.71604938 6577.71604938]\n",
      "[7.03703704 5.32703704 3.30203704 4.93328704]\n"
     ]
    }
   ],
   "source": [
    "#avg runnning speed\n",
    "\n",
    "d_avg_s= d - 2*d_acc #distance travelling at average speed\n",
    "print (d_avg_s)\n",
    "t_avg= d_avg_s/s_avg #time travelling at avg speed for each split (s)\n",
    "print (t_avg/60)"
   ]
  },
  {
   "cell_type": "code",
   "execution_count": null,
   "id": "c76447ad",
   "metadata": {},
   "outputs": [],
   "source": [
    "#force model\n",
    "V= #V (instantaenous speed in km/h)\n",
    "alpha #(instantaneous gradient )\n",
    "\n",
    "A=9.4/(math.sqrt(w)) + 12.5/w\n",
    "B=8*10**-5*W*V\n",
    "C=6*10**-7*W*V**2\n",
    "\n",
    "\n",
    "#F_t\n",
    "F_d=A+Bv+Cv**2 #running resistance in kg/ton\n",
    "F_d= F_d*W*g #running resistance in N\n",
    "#f= m*g*slope+A/R_L #slope resistance and curve resistance"
   ]
  },
  {
   "cell_type": "code",
   "execution_count": null,
   "id": "30665f40",
   "metadata": {},
   "outputs": [],
   "source": [
    "#Energy calculation\n",
    "\n",
    "#energy and power requirements for accelerating\n",
    "F= m*a\n",
    "E_acc=F*d_acc\n",
    "P_acc= E_acc/t_acc\n",
    "\n",
    "#energy and power requirements for average journey\n",
    "E_avg_s= 1/2 *m* (s_avg)^2\n",
    "P_avg_s= E_avg_s/t_avg\n"
   ]
  },
  {
   "cell_type": "code",
   "execution_count": 9,
   "id": "91276c88",
   "metadata": {},
   "outputs": [],
   "source": [
    "#operational margin\n",
    "t_margin_arrive= 30 #assumption\n",
    "t_margin_depart= 60 #assumption based on doors can close up to a minute before departure\n",
    "t_margin= t_margin_arrive + t_margin_depart"
   ]
  },
  {
   "cell_type": "code",
   "execution_count": 10,
   "id": "407fbfce",
   "metadata": {},
   "outputs": [],
   "source": [
    "t_board= 0.05*60 #time of embarking or disembarking per passenger (s) (assumption)(6s)"
   ]
  },
  {
   "cell_type": "code",
   "execution_count": 11,
   "id": "3721d136",
   "metadata": {},
   "outputs": [
    {
     "name": "stdout",
     "output_type": "stream",
     "text": [
      "4.124999999999999\n"
     ]
    }
   ],
   "source": [
    "#dwell time\n",
    "#tau=0.35\n",
    "t_station = t_margin + N_cars*2*(t_board*tau*q)/Ndoors # for all stations (embark and disembark)\n",
    "print(t_station/60)\n",
    "\n",
    "#t_board_c= (t_board*Beta[0][0]*tau*q)/Ndoors + (t_board*Beta[1][0]*tau*q)/Ndoors \n",
    "\n",
    "#w_e\n",
    "#e_o\n",
    "\n",
    "#t_station = t_margin + (t_board*Beta[]*tau*q)/Ndoors + (t_board*Beta[]*tau*q)/Ndoors # station breakdown "
   ]
  },
  {
   "cell_type": "code",
   "execution_count": 12,
   "id": "87dfa356",
   "metadata": {},
   "outputs": [
    {
     "name": "stdout",
     "output_type": "stream",
     "text": [
      "24.303101851851853\n"
     ]
    }
   ],
   "source": [
    "#time of train in motion\n",
    "#t_avg from 4 parts of journey\n",
    "#accelerates and decelerates 8 times in total\n",
    "t_track = 2*4*t_acc + t_avg[0] +t_avg[1] +t_avg[2] + t_avg[3]\n",
    "print(t_track/60)"
   ]
  },
  {
   "cell_type": "code",
   "execution_count": 13,
   "id": "2291d7ed",
   "metadata": {},
   "outputs": [
    {
     "name": "stdout",
     "output_type": "stream",
     "text": [
      "28.428101851851853\n"
     ]
    }
   ],
   "source": [
    "#journey time\n",
    "\n",
    "t_journey= t_station + t_track #4 stations, 4 betas, 4 dwell times, index t_station\n",
    "print(t_journey/60)"
   ]
  },
  {
   "cell_type": "code",
   "execution_count": 14,
   "id": "bf7c1b03",
   "metadata": {},
   "outputs": [
    {
     "name": "stdout",
     "output_type": "stream",
     "text": [
      "[422.22222222 319.62222222 198.12222222 295.99722222]\n",
      "0\n",
      "422.22222222222223\n",
      "422.22222222222223\n",
      "1\n",
      "741.8444444444444\n",
      "319.6222222222222\n",
      "2\n",
      "939.9666666666667\n",
      "198.12222222222223\n",
      "3\n",
      "1235.963888888889\n",
      "295.9972222222222\n"
     ]
    }
   ],
   "source": [
    "\n",
    "print(t_avg)\n",
    "from numpy import cumsum, ones\n",
    "ct_avg= cumsum(t_avg)\n",
    "for n in range(4): \n",
    "    #count = 5\n",
    "    #if n==0 and count>0:\n",
    "        #ct_avg=np.zeros(5)\n",
    "        #count= count - 1\n",
    "    \n",
    "    print(n)\n",
    "    \n",
    "    print(ct_avg[n])\n",
    "    print(t_avg[n])\n",
    "    \n",
    "    #print(ct_avg[n-1])\n",
    "\n",
    "    \n",
    "from numpy import cumsum, ones\n",
    "z = np.array([[1], [2], [3], [4]])\n",
    "#print(a)\n",
    "#print(cumsum(a))\n",
    "#array([  1.,   2.,   3.,   4.,   5.,   6.,   7.,   8.,   9.,  10.])\n"
   ]
  },
  {
   "cell_type": "code",
   "execution_count": 26,
   "id": "56eee160",
   "metadata": {},
   "outputs": [],
   "source": [
    "#speed/acceleration/ deceleration profile\n",
    "t_journey=31\n",
    "t = np.arange(0,t_journey*60,1, dtype=int) #array with 1 second intervals\n",
    "#print(t)\n",
    "\n",
    "#initialise speed array # it is at average speed for majority of time\n",
    "speed = [s_avg] * len(t) \n",
    "\n",
    "#cumulative time spent at avg speed\n",
    "from numpy import cumsum, ones\n",
    "ct_avg= cumsum(t_avg)\n",
    "#print(ct_avg)\n",
    "#print((t_acc + t_avg[0])/60)\n",
    "#print(t_station/60)\n",
    "#overwrite for accelerating/ stationary\n",
    "\n",
    "for n in range(4):\n",
    "    for i in t:\n",
    "        #if n==0 and i<t_acc:\n",
    "            #s_acc= a*t[i]#instantaneous speed\n",
    "            #print(s_acc)\n",
    "            #speed[i]= s_acc\n",
    "\n",
    "        #elif n==0 and t_acc+ t_avg[0] < i < 2*t_acc+ t_avg[0]: #time decelerating\n",
    "                                                #t_acc+t_avg - 2*t_acc + t_avg #tavg is split station wise e.g. t_avg[0]\n",
    "            # t_dec as time begins upon deceleration\n",
    "            #t_dec = i- (t_acc+ t_avg[0])\n",
    "            #print(t_dec)\n",
    "            #s_dec= s_avg -a*t_dec \n",
    "            #print(s_dec)\n",
    "            #speed[i] = s_dec\n",
    "            \n",
    "        #elif ((2*n)+2)*t_acc + ct_avg[n] + n*t_station < i < ((2*n)+2)*t_acc + ct_avg[n] + (n+1)*t_station: #time stationary (at station)\n",
    "            #speed[i]=0\n",
    "        \n",
    "        if 1<= n<= 3 and 2*n*t_acc + n*t_station + ct_avg[n-1] < i < ((2*n)+1)*t_acc + n*t_station + ct_avg[n-1]:#time spent accelerating\n",
    "        #0-t_acc, etc etc\n",
    "            t_acc_1 = i- (2*n*t_acc + n*t_station + ct_avg[n-1])\n",
    "            print(t_acc_1)\n",
    "            s_acc= a*t_acc_1 #instantaneous speed while accelerating\n",
    "            speed[i]= s_acc\n",
    "\n",
    "        #elif ((2*n)+1)*t_acc + n*t_station + ct_avg[n] < i < ((2*n)+2)*t_acc + n*t_station + ct_avg[n]: #time decelerating\n",
    "                                                #t_acc+t_avg - 2*t_acc + t_avg #tavg is split station wise e.g. t_avg[0]\n",
    "            # t_dec as time begins upon deceleration\n",
    "           # t_dec = i- (((2*n)+1)*t_acc + n*t_station + ct_avg[n-1]) \n",
    "        \n",
    "            #s_dec= s_avg -a*t_dec \n",
    "            #speed[i] = s_dec\n",
    " \n",
    "        \n",
    "\n",
    "\n",
    "#print(speed)\n"
   ]
  },
  {
   "cell_type": "code",
   "execution_count": null,
   "id": "4de65483",
   "metadata": {},
   "outputs": [
    {
     "data": {
      "text/plain": [
       "[<matplotlib.lines.Line2D at 0x242944fe588>]"
      ]
     },
     "execution_count": 55,
     "metadata": {},
     "output_type": "execute_result"
    }
   ],
   "source": [
    "#plt.plot(t,speed)\n",
    "#plt.xlabel= ('time(s)')\n",
    "#plt.ylabel=('speed(m/s)')\n"
   ]
  },
  {
   "cell_type": "code",
   "execution_count": null,
   "id": "d391ae61",
   "metadata": {},
   "outputs": [],
   "source": [
    "a=[1,2,3] \n",
    "b=[10,20,30]\n",
    "plt.plot(a,b)\n",
    "plt.show()"
   ]
  },
  {
   "cell_type": "code",
   "execution_count": null,
   "id": "83d4fb69",
   "metadata": {},
   "outputs": [],
   "source": []
  }
 ],
 "metadata": {
  "kernelspec": {
   "display_name": "Python 3 (ipykernel)",
   "language": "python",
   "name": "python3"
  },
  "language_info": {
   "codemirror_mode": {
    "name": "ipython",
    "version": 3
   },
   "file_extension": ".py",
   "mimetype": "text/x-python",
   "name": "python",
   "nbconvert_exporter": "python",
   "pygments_lexer": "ipython3",
   "version": "3.7.11"
  }
 },
 "nbformat": 4,
 "nbformat_minor": 5
}
